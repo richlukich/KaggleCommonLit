{
  "nbformat": 4,
  "nbformat_minor": 0,
  "metadata": {
    "accelerator": "GPU",
    "colab": {
      "name": "CommonLitKaggle.ipynb",
      "provenance": [],
      "collapsed_sections": []
    },
    "kernelspec": {
      "display_name": "Python 3",
      "name": "python3"
    },
    "language_info": {
      "name": "python"
    }
  },
  "cells": [
    {
      "cell_type": "code",
      "metadata": {
        "colab": {
          "base_uri": "https://localhost:8080/"
        },
        "id": "OGHcfZmDEPXv",
        "outputId": "7c464be2-2a4f-4d0d-da89-c61f336c95f3"
      },
      "source": [
        "import pandas as pd\n",
        "import numpy as np\n",
        "import seaborn as sns\n",
        "import matplotlib.pyplot as plt\n",
        "import re\n",
        "import string\n",
        "import nltk\n",
        "nltk.download('stopwords')\n",
        "nltk.download('punkt')\n",
        "nltk.download('snowball_data')\n",
        "nltk.download('perluniprops')\n",
        "nltk.download('universal_tagset')\n",
        "nltk.download('stopwords')\n",
        "nltk.download('nonbreaking_prefixes')\n",
        "nltk.download('wordnet')\n",
        "from nltk.corpus import stopwords\n",
        "from nltk.tokenize import sent_tokenize, word_tokenize\n",
        "from sklearn.model_selection import train_test_split\n",
        "from sklearn.metrics import mean_squared_error\n",
        "from tqdm import tqdm\n",
        "from torch.utils.data import (TensorDataset, DataLoader, RandomSampler,\n",
        "                              SequentialSampler)\n",
        "import torch\n",
        "import torch.nn as nn\n",
        "import torch.nn.functional as F\n",
        "import math\n",
        "from sklearn.feature_extraction.text import TfidfVectorizer\n",
        "from sklearn.svm import SVR\n",
        "from scipy.sparse import hstack\n",
        "from scipy.sparse.csc import csc_matrix"
      ],
      "execution_count": null,
      "outputs": [
        {
          "output_type": "stream",
          "text": [
            "[nltk_data] Downloading package stopwords to /root/nltk_data...\n",
            "[nltk_data]   Package stopwords is already up-to-date!\n",
            "[nltk_data] Downloading package punkt to /root/nltk_data...\n",
            "[nltk_data]   Package punkt is already up-to-date!\n",
            "[nltk_data] Downloading package snowball_data to /root/nltk_data...\n",
            "[nltk_data]   Package snowball_data is already up-to-date!\n",
            "[nltk_data] Downloading package perluniprops to /root/nltk_data...\n",
            "[nltk_data]   Package perluniprops is already up-to-date!\n",
            "[nltk_data] Downloading package universal_tagset to /root/nltk_data...\n",
            "[nltk_data]   Package universal_tagset is already up-to-date!\n",
            "[nltk_data] Downloading package stopwords to /root/nltk_data...\n",
            "[nltk_data]   Package stopwords is already up-to-date!\n",
            "[nltk_data] Downloading package nonbreaking_prefixes to\n",
            "[nltk_data]     /root/nltk_data...\n",
            "[nltk_data]   Package nonbreaking_prefixes is already up-to-date!\n",
            "[nltk_data] Downloading package wordnet to /root/nltk_data...\n",
            "[nltk_data]   Package wordnet is already up-to-date!\n"
          ],
          "name": "stdout"
        }
      ]
    },
    {
      "cell_type": "code",
      "metadata": {
        "id": "tkalJfTwEzit"
      },
      "source": [
        "data=pd.read_csv('/content/trainKaggle.csv')"
      ],
      "execution_count": null,
      "outputs": []
    },
    {
      "cell_type": "code",
      "metadata": {
        "colab": {
          "base_uri": "https://localhost:8080/",
          "height": 419
        },
        "id": "QVIMKIXNE3zC",
        "outputId": "15022aea-6e08-4de0-fdfd-fbb5a38881a9"
      },
      "source": [
        "data"
      ],
      "execution_count": null,
      "outputs": [
        {
          "output_type": "execute_result",
          "data": {
            "text/html": [
              "<div>\n",
              "<style scoped>\n",
              "    .dataframe tbody tr th:only-of-type {\n",
              "        vertical-align: middle;\n",
              "    }\n",
              "\n",
              "    .dataframe tbody tr th {\n",
              "        vertical-align: top;\n",
              "    }\n",
              "\n",
              "    .dataframe thead th {\n",
              "        text-align: right;\n",
              "    }\n",
              "</style>\n",
              "<table border=\"1\" class=\"dataframe\">\n",
              "  <thead>\n",
              "    <tr style=\"text-align: right;\">\n",
              "      <th></th>\n",
              "      <th>id</th>\n",
              "      <th>url_legal</th>\n",
              "      <th>license</th>\n",
              "      <th>excerpt</th>\n",
              "      <th>target</th>\n",
              "      <th>standard_error</th>\n",
              "    </tr>\n",
              "  </thead>\n",
              "  <tbody>\n",
              "    <tr>\n",
              "      <th>0</th>\n",
              "      <td>c12129c31</td>\n",
              "      <td>NaN</td>\n",
              "      <td>NaN</td>\n",
              "      <td>When the young people returned to the ballroom...</td>\n",
              "      <td>-0.340259</td>\n",
              "      <td>0.464009</td>\n",
              "    </tr>\n",
              "    <tr>\n",
              "      <th>1</th>\n",
              "      <td>85aa80a4c</td>\n",
              "      <td>NaN</td>\n",
              "      <td>NaN</td>\n",
              "      <td>All through dinner time, Mrs. Fayre was somewh...</td>\n",
              "      <td>-0.315372</td>\n",
              "      <td>0.480805</td>\n",
              "    </tr>\n",
              "    <tr>\n",
              "      <th>2</th>\n",
              "      <td>b69ac6792</td>\n",
              "      <td>NaN</td>\n",
              "      <td>NaN</td>\n",
              "      <td>As Roger had predicted, the snow departed as q...</td>\n",
              "      <td>-0.580118</td>\n",
              "      <td>0.476676</td>\n",
              "    </tr>\n",
              "    <tr>\n",
              "      <th>3</th>\n",
              "      <td>dd1000b26</td>\n",
              "      <td>NaN</td>\n",
              "      <td>NaN</td>\n",
              "      <td>And outside before the palace a great garden w...</td>\n",
              "      <td>-1.054013</td>\n",
              "      <td>0.450007</td>\n",
              "    </tr>\n",
              "    <tr>\n",
              "      <th>4</th>\n",
              "      <td>37c1b32fb</td>\n",
              "      <td>NaN</td>\n",
              "      <td>NaN</td>\n",
              "      <td>Once upon a time there were Three Bears who li...</td>\n",
              "      <td>0.247197</td>\n",
              "      <td>0.510845</td>\n",
              "    </tr>\n",
              "    <tr>\n",
              "      <th>...</th>\n",
              "      <td>...</td>\n",
              "      <td>...</td>\n",
              "      <td>...</td>\n",
              "      <td>...</td>\n",
              "      <td>...</td>\n",
              "      <td>...</td>\n",
              "    </tr>\n",
              "    <tr>\n",
              "      <th>2829</th>\n",
              "      <td>25ca8f498</td>\n",
              "      <td>https://sites.ehe.osu.edu/beyondpenguins/files...</td>\n",
              "      <td>CC BY-SA 3.0</td>\n",
              "      <td>When you think of dinosaurs and where they liv...</td>\n",
              "      <td>1.711390</td>\n",
              "      <td>0.646900</td>\n",
              "    </tr>\n",
              "    <tr>\n",
              "      <th>2830</th>\n",
              "      <td>2c26db523</td>\n",
              "      <td>https://en.wikibooks.org/wiki/Wikijunior:The_E...</td>\n",
              "      <td>CC BY-SA 3.0</td>\n",
              "      <td>So what is a solid? Solids are usually hard be...</td>\n",
              "      <td>0.189476</td>\n",
              "      <td>0.535648</td>\n",
              "    </tr>\n",
              "    <tr>\n",
              "      <th>2831</th>\n",
              "      <td>cd19e2350</td>\n",
              "      <td>https://en.wikibooks.org/wiki/Wikijunior:The_E...</td>\n",
              "      <td>CC BY-SA 3.0</td>\n",
              "      <td>The second state of matter we will discuss is ...</td>\n",
              "      <td>0.255209</td>\n",
              "      <td>0.483866</td>\n",
              "    </tr>\n",
              "    <tr>\n",
              "      <th>2832</th>\n",
              "      <td>15e2e9e7a</td>\n",
              "      <td>https://en.wikibooks.org/wiki/Geometry_for_Ele...</td>\n",
              "      <td>CC BY-SA 3.0</td>\n",
              "      <td>Solids are shapes that you can actually touch....</td>\n",
              "      <td>-0.215279</td>\n",
              "      <td>0.514128</td>\n",
              "    </tr>\n",
              "    <tr>\n",
              "      <th>2833</th>\n",
              "      <td>5b990ba77</td>\n",
              "      <td>https://en.wikibooks.org/wiki/Wikijunior:Biolo...</td>\n",
              "      <td>CC BY-SA 3.0</td>\n",
              "      <td>Animals are made of many cells. They eat thing...</td>\n",
              "      <td>0.300779</td>\n",
              "      <td>0.512379</td>\n",
              "    </tr>\n",
              "  </tbody>\n",
              "</table>\n",
              "<p>2834 rows × 6 columns</p>\n",
              "</div>"
            ],
            "text/plain": [
              "             id  ... standard_error\n",
              "0     c12129c31  ...       0.464009\n",
              "1     85aa80a4c  ...       0.480805\n",
              "2     b69ac6792  ...       0.476676\n",
              "3     dd1000b26  ...       0.450007\n",
              "4     37c1b32fb  ...       0.510845\n",
              "...         ...  ...            ...\n",
              "2829  25ca8f498  ...       0.646900\n",
              "2830  2c26db523  ...       0.535648\n",
              "2831  cd19e2350  ...       0.483866\n",
              "2832  15e2e9e7a  ...       0.514128\n",
              "2833  5b990ba77  ...       0.512379\n",
              "\n",
              "[2834 rows x 6 columns]"
            ]
          },
          "metadata": {
            "tags": []
          },
          "execution_count": 265
        }
      ]
    },
    {
      "cell_type": "markdown",
      "metadata": {
        "id": "40VkVugc2Ad3"
      },
      "source": [
        "# 1.EDA"
      ]
    },
    {
      "cell_type": "code",
      "metadata": {
        "id": "H0H2t6vRE4tU"
      },
      "source": [
        "class Visualization():\n",
        "  def __init__(self,data):\n",
        "    self.data=data\n",
        "  def target_distribution(self):\n",
        "    sns.displot(self.data['target'],color=\"g\",bins=30,kde=True)\n",
        "\n",
        "  def boxplot_target(self):\n",
        "    sns.boxplot(self.data['target'])\n",
        "\n",
        "  def standard_error_distribution(self):\n",
        "    sns.displot(self.data['standard_error'],color=\"r\",bins=30,kde=True)\n",
        "\n",
        "  def boxplot_standard_error(self):\n",
        "    sns.boxplot(self.data['standard_error'])\n",
        "\n",
        "  def distribution_excerpt_len (self):\n",
        "    sns.displot (list (map(lambda x:len(x.split()),self.data['excerpt'])),color='y',bins=30,kde=True)\n",
        "  def correlation_matrix (self):\n",
        "    len_excerpt= list (map(lambda x:len(x.split()),self.data['excerpt']))\n",
        "\n",
        "    count_punct=[]\n",
        "    count_stopwords=[]\n",
        "    stop_words = set(stopwords.words('english'))\n",
        "    for excerpt in self.data['excerpt']:\n",
        "      k,i=0,0\n",
        "      for word in excerpt:\n",
        "        if (word in string.punctuation):\n",
        "          k=k+1\n",
        "        if (word in stop_words):\n",
        "          i=i+1\n",
        "      count_stopwords.append(i)\n",
        "      count_punct.append(k)\n",
        "  \n",
        "    df={'target':self.data['target'],'standard_error':self.data['standard_error'],'Длина отрывка ':len_excerpt,'Кол-во знаков препинания':count_punct,\n",
        "        'Кол-во стоп слов':count_stopwords}\n",
        "    df=pd.DataFrame(df)\n",
        "    correlation = df.corr()\n",
        "    plt.figure(figsize=(10,10))\n",
        "    sns.heatmap(correlation, vmax=1, square=True,annot=True,cmap='cubehelix')\n",
        "    plt.title('Correlation between different fearures')\n",
        "    plt.show()"
      ],
      "execution_count": null,
      "outputs": []
    },
    {
      "cell_type": "code",
      "metadata": {
        "colab": {
          "base_uri": "https://localhost:8080/",
          "height": 678
        },
        "id": "_0VOoD7c8kOP",
        "outputId": "b0c9516f-30cf-46e7-8056-c14b6dd25317"
      },
      "source": [
        "visualization=Visualization(data)\n",
        "visualization.correlation_matrix()"
      ],
      "execution_count": null,
      "outputs": [
        {
          "output_type": "display_data",
          "data": {
            "image/png": "[encoded data removed]",
            "text/plain": [
              "<Figure size 720x720 with 2 Axes>"
            ]
          },
          "metadata": {
            "tags": [],
            "needs_background": "light"
          }
        }
      ]
    },
    {
      "cell_type": "code",
      "metadata": {
        "colab": {
          "base_uri": "https://localhost:8080/",
          "height": 369
        },
        "id": "3lSVeThMj8-S",
        "outputId": "9d4eccd3-7d2d-4688-d542-36b8b7a2bd5d"
      },
      "source": [
        "visualization.target_distribution()"
      ],
      "execution_count": null,
      "outputs": [
        {
          "output_type": "display_data",
          "data": {
            "image/png": "[encoded data removed]",
            "text/plain": [
              "<Figure size 360x360 with 1 Axes>"
            ]
          },
          "metadata": {
            "tags": [],
            "needs_background": "light"
          }
        }
      ]
    },
    {
      "cell_type": "code",
      "metadata": {
        "colab": {
          "base_uri": "https://localhost:8080/",
          "height": 333
        },
        "id": "2epC55XskBgn",
        "outputId": "a13a9bec-8f4d-48c1-ffcf-54d7ecf588de"
      },
      "source": [
        "visualization.boxplot_target()"
      ],
      "execution_count": null,
      "outputs": [
        {
          "output_type": "stream",
          "text": [
            "/usr/local/lib/python3.7/dist-packages/seaborn/_decorators.py:43: FutureWarning: Pass the following variable as a keyword arg: x. From version 0.12, the only valid positional argument will be `data`, and passing other arguments without an explicit keyword will result in an error or misinterpretation.\n",
            "  FutureWarning\n"
          ],
          "name": "stderr"
        },
        {
          "output_type": "display_data",
          "data": {
            "image/png": "[encoded data removed]",
            "text/plain": [
              "<Figure size 432x288 with 1 Axes>"
            ]
          },
          "metadata": {
            "tags": [],
            "needs_background": "light"
          }
        }
      ]
    },
    {
      "cell_type": "code",
      "metadata": {
        "colab": {
          "base_uri": "https://localhost:8080/",
          "height": 369
        },
        "id": "uqmt2CWtkF9x",
        "outputId": "af306fbf-1b66-4cbd-fb60-5b9c1065c69a"
      },
      "source": [
        "visualization.standard_error_distribution()"
      ],
      "execution_count": null,
      "outputs": [
        {
          "output_type": "display_data",
          "data": {
            "image/png": "[encoded data removed]",
            "text/plain": [
              "<Figure size 360x360 with 1 Axes>"
            ]
          },
          "metadata": {
            "tags": [],
            "needs_background": "light"
          }
        }
      ]
    },
    {
      "cell_type": "code",
      "metadata": {
        "colab": {
          "base_uri": "https://localhost:8080/",
          "height": 334
        },
        "id": "Su9StJOjkLtP",
        "outputId": "21016f05-9bdb-4475-9caa-a2773bb70c9b"
      },
      "source": [
        "visualization.boxplot_standard_error()"
      ],
      "execution_count": null,
      "outputs": [
        {
          "output_type": "stream",
          "text": [
            "/usr/local/lib/python3.7/dist-packages/seaborn/_decorators.py:43: FutureWarning: Pass the following variable as a keyword arg: x. From version 0.12, the only valid positional argument will be `data`, and passing other arguments without an explicit keyword will result in an error or misinterpretation.\n",
            "  FutureWarning\n"
          ],
          "name": "stderr"
        },
        {
          "output_type": "display_data",
          "data": {
            "image/png": "[encoded data removed]",
            "text/plain": [
              "<Figure size 432x288 with 1 Axes>"
            ]
          },
          "metadata": {
            "tags": [],
            "needs_background": "light"
          }
        }
      ]
    },
    {
      "cell_type": "code",
      "metadata": {
        "colab": {
          "base_uri": "https://localhost:8080/",
          "height": 369
        },
        "id": "Z6ubdhFskZ4P",
        "outputId": "f9cf667d-694b-4429-ca17-fbc79ccdc1bf"
      },
      "source": [
        "visualization.distribution_excerpt_len()"
      ],
      "execution_count": null,
      "outputs": [
        {
          "output_type": "display_data",
          "data": {
            "image/png": "[encoded data removed]",
            "text/plain": [
              "<Figure size 360x360 with 1 Axes>"
            ]
          },
          "metadata": {
            "tags": [],
            "needs_background": "light"
          }
        }
      ]
    },
    {
      "cell_type": "markdown",
      "metadata": {
        "id": "u0ksbRXIcij9"
      },
      "source": [
        "# 2.Feature Engineering"
      ]
    },
    {
      "cell_type": "code",
      "metadata": {
        "id": "HXnbRZ7ccnTa"
      },
      "source": [
        "class CLRPdataset():\n",
        "  def __init__(self,data):\n",
        "    self.data=data\n",
        "  def concat_excerpt_url(self):\n",
        "\n",
        "    def isNaN(num):\n",
        "      return num != num\n",
        "\n",
        "    for i,sent in enumerate (self.data['url_legal']):\n",
        "      if not isNaN(sent):\n",
        "        sent=sent.split('/')[-2:]\n",
        "        for j,word in enumerate (sent):\n",
        "          sent[j]=re.sub('[^\\w\\s]',' ',word)\n",
        "          sent[j]=re.sub('_',' ',sent[j])\n",
        "        s=' '.join(sent)\n",
        "        self.data['excerpt'][i]=s+' '+self.data['excerpt'][i]\n",
        "\n",
        "  def generate_other_features(self):\n",
        "    count_punct=[]\n",
        "    for excerpt in self.data['excerpt']:\n",
        "      k=0\n",
        "      for w in excerpt:\n",
        "        if w in string.punctuation:\n",
        "          k+=1\n",
        "      count_punct.append(k)\n",
        "\n",
        "    count_char=[len(excerpt) for excerpt in self.data['excerpt']]\n",
        "\n",
        "    count_words=[len(excerpt.split() ) for excerpt in self.data['excerpt']  ]\n",
        "\n",
        "    count_uniq_words= [len(set(excerpt.split() ) ) for excerpt in self.data['excerpt']  ]\n",
        "\n",
        "    count_word_diversity= [count_uniq_words[i]/count_words[i] for i in range (len(count_uniq_words))]\n",
        "\n",
        "    max_word=[]\n",
        "    average_word=[]\n",
        "\n",
        "    for excerpt in self.data['excerpt']:\n",
        "      word_len=[len(w) for w in (excerpt.split() )]\n",
        "      max_word.append(np.max(word_len))\n",
        "      average_word.append(np.mean(word_len))\n",
        "\n",
        "    return count_punct,count_char,count_words,count_uniq_words,count_word_diversity,max_word,average_word\n",
        "    "
      ],
      "execution_count": null,
      "outputs": []
    },
    {
      "cell_type": "code",
      "metadata": {
        "colab": {
          "base_uri": "https://localhost:8080/"
        },
        "id": "8xibFiHIGaEX",
        "outputId": "133ec422-112e-497c-fd37-ebe27b101520"
      },
      "source": [
        "clrp=CLRPdataset(data)\n",
        "features=clrp.generate_other_features()\n",
        "clrp.concat_excerpt_url()"
      ],
      "execution_count": null,
      "outputs": [
        {
          "output_type": "stream",
          "text": [
            "/usr/local/lib/python3.7/dist-packages/ipykernel_launcher.py:16: SettingWithCopyWarning: \n",
            "A value is trying to be set on a copy of a slice from a DataFrame\n",
            "\n",
            "See the caveats in the documentation: https://pandas.pydata.org/pandas-docs/stable/user_guide/indexing.html#returning-a-view-versus-a-copy\n",
            "  app.launch_new_instance()\n"
          ],
          "name": "stderr"
        }
      ]
    },
    {
      "cell_type": "code",
      "metadata": {
        "id": "z4JFtLdVL_NJ"
      },
      "source": [
        "data=data.drop(['url_legal','id','license'],axis=1)"
      ],
      "execution_count": null,
      "outputs": []
    },
    {
      "cell_type": "code",
      "metadata": {
        "colab": {
          "base_uri": "https://localhost:8080/",
          "height": 419
        },
        "id": "0l5Asfj0f6uK",
        "outputId": "72962c55-ab18-4163-e46e-5d41c5520a59"
      },
      "source": [
        "data"
      ],
      "execution_count": null,
      "outputs": [
        {
          "output_type": "execute_result",
          "data": {
            "text/html": [
              "<div>\n",
              "<style scoped>\n",
              "    .dataframe tbody tr th:only-of-type {\n",
              "        vertical-align: middle;\n",
              "    }\n",
              "\n",
              "    .dataframe tbody tr th {\n",
              "        vertical-align: top;\n",
              "    }\n",
              "\n",
              "    .dataframe thead th {\n",
              "        text-align: right;\n",
              "    }\n",
              "</style>\n",
              "<table border=\"1\" class=\"dataframe\">\n",
              "  <thead>\n",
              "    <tr style=\"text-align: right;\">\n",
              "      <th></th>\n",
              "      <th>excerpt</th>\n",
              "      <th>target</th>\n",
              "      <th>standard_error</th>\n",
              "    </tr>\n",
              "  </thead>\n",
              "  <tbody>\n",
              "    <tr>\n",
              "      <th>0</th>\n",
              "      <td>When the young people returned to the ballroom...</td>\n",
              "      <td>-0.340259</td>\n",
              "      <td>0.464009</td>\n",
              "    </tr>\n",
              "    <tr>\n",
              "      <th>1</th>\n",
              "      <td>All through dinner time, Mrs. Fayre was somewh...</td>\n",
              "      <td>-0.315372</td>\n",
              "      <td>0.480805</td>\n",
              "    </tr>\n",
              "    <tr>\n",
              "      <th>2</th>\n",
              "      <td>As Roger had predicted, the snow departed as q...</td>\n",
              "      <td>-0.580118</td>\n",
              "      <td>0.476676</td>\n",
              "    </tr>\n",
              "    <tr>\n",
              "      <th>3</th>\n",
              "      <td>And outside before the palace a great garden w...</td>\n",
              "      <td>-1.054013</td>\n",
              "      <td>0.450007</td>\n",
              "    </tr>\n",
              "    <tr>\n",
              "      <th>4</th>\n",
              "      <td>Once upon a time there were Three Bears who li...</td>\n",
              "      <td>0.247197</td>\n",
              "      <td>0.510845</td>\n",
              "    </tr>\n",
              "    <tr>\n",
              "      <th>...</th>\n",
              "      <td>...</td>\n",
              "      <td>...</td>\n",
              "      <td>...</td>\n",
              "    </tr>\n",
              "    <tr>\n",
              "      <th>2829</th>\n",
              "      <td>06 dinosaurs 45 text pdf When you think of din...</td>\n",
              "      <td>1.711390</td>\n",
              "      <td>0.646900</td>\n",
              "    </tr>\n",
              "    <tr>\n",
              "      <th>2830</th>\n",
              "      <td>Wikijunior The Elements Solids So what is a so...</td>\n",
              "      <td>0.189476</td>\n",
              "      <td>0.535648</td>\n",
              "    </tr>\n",
              "    <tr>\n",
              "      <th>2831</th>\n",
              "      <td>Wikijunior The Elements Liquids The second sta...</td>\n",
              "      <td>0.255209</td>\n",
              "      <td>0.483866</td>\n",
              "    </tr>\n",
              "    <tr>\n",
              "      <th>2832</th>\n",
              "      <td>Geometry for Elementary School Solids Solids a...</td>\n",
              "      <td>-0.215279</td>\n",
              "      <td>0.514128</td>\n",
              "    </tr>\n",
              "    <tr>\n",
              "      <th>2833</th>\n",
              "      <td>Kingdoms Animals Animals are made of many cell...</td>\n",
              "      <td>0.300779</td>\n",
              "      <td>0.512379</td>\n",
              "    </tr>\n",
              "  </tbody>\n",
              "</table>\n",
              "<p>2834 rows × 3 columns</p>\n",
              "</div>"
            ],
            "text/plain": [
              "                                                excerpt  ...  standard_error\n",
              "0     When the young people returned to the ballroom...  ...        0.464009\n",
              "1     All through dinner time, Mrs. Fayre was somewh...  ...        0.480805\n",
              "2     As Roger had predicted, the snow departed as q...  ...        0.476676\n",
              "3     And outside before the palace a great garden w...  ...        0.450007\n",
              "4     Once upon a time there were Three Bears who li...  ...        0.510845\n",
              "...                                                 ...  ...             ...\n",
              "2829  06 dinosaurs 45 text pdf When you think of din...  ...        0.646900\n",
              "2830  Wikijunior The Elements Solids So what is a so...  ...        0.535648\n",
              "2831  Wikijunior The Elements Liquids The second sta...  ...        0.483866\n",
              "2832  Geometry for Elementary School Solids Solids a...  ...        0.514128\n",
              "2833  Kingdoms Animals Animals are made of many cell...  ...        0.512379\n",
              "\n",
              "[2834 rows x 3 columns]"
            ]
          },
          "metadata": {
            "tags": []
          },
          "execution_count": 276
        }
      ]
    },
    {
      "cell_type": "code",
      "metadata": {
        "id": "JlRoEuD_gF1l"
      },
      "source": [
        "df={'excerpt':data['excerpt'].values,\n",
        "    'standard_error':data['standard_error'].values,\n",
        "    'count_punct':features[0],\n",
        "    'count_char':features[1],\n",
        "    'count_words':features[2],\n",
        "    'count_uniq_words':features[3],\n",
        "    'word_diversity':features[4],\n",
        "    'max_word':features[5],\n",
        "    'average_word':features[6],\n",
        "    'target':data['target'].values}\n",
        "data=pd.DataFrame(df)"
      ],
      "execution_count": null,
      "outputs": []
    },
    {
      "cell_type": "code",
      "metadata": {
        "colab": {
          "base_uri": "https://localhost:8080/",
          "height": 419
        },
        "id": "IJvSDaq0hHqX",
        "outputId": "5f39c2ed-a614-4866-b6c5-08dde53946af"
      },
      "source": [
        "data"
      ],
      "execution_count": null,
      "outputs": [
        {
          "output_type": "execute_result",
          "data": {
            "text/html": [
              "<div>\n",
              "<style scoped>\n",
              "    .dataframe tbody tr th:only-of-type {\n",
              "        vertical-align: middle;\n",
              "    }\n",
              "\n",
              "    .dataframe tbody tr th {\n",
              "        vertical-align: top;\n",
              "    }\n",
              "\n",
              "    .dataframe thead th {\n",
              "        text-align: right;\n",
              "    }\n",
              "</style>\n",
              "<table border=\"1\" class=\"dataframe\">\n",
              "  <thead>\n",
              "    <tr style=\"text-align: right;\">\n",
              "      <th></th>\n",
              "      <th>excerpt</th>\n",
              "      <th>standard_error</th>\n",
              "      <th>count_punct</th>\n",
              "      <th>count_char</th>\n",
              "      <th>count_words</th>\n",
              "      <th>count_uniq_words</th>\n",
              "      <th>word_diversity</th>\n",
              "      <th>max_word</th>\n",
              "      <th>average_word</th>\n",
              "      <th>target</th>\n",
              "    </tr>\n",
              "  </thead>\n",
              "  <tbody>\n",
              "    <tr>\n",
              "      <th>0</th>\n",
              "      <td>When the young people returned to the ballroom...</td>\n",
              "      <td>0.464009</td>\n",
              "      <td>27</td>\n",
              "      <td>992</td>\n",
              "      <td>179</td>\n",
              "      <td>114</td>\n",
              "      <td>0.636872</td>\n",
              "      <td>11</td>\n",
              "      <td>4.547486</td>\n",
              "      <td>-0.340259</td>\n",
              "    </tr>\n",
              "    <tr>\n",
              "      <th>1</th>\n",
              "      <td>All through dinner time, Mrs. Fayre was somewh...</td>\n",
              "      <td>0.480805</td>\n",
              "      <td>56</td>\n",
              "      <td>937</td>\n",
              "      <td>169</td>\n",
              "      <td>127</td>\n",
              "      <td>0.751479</td>\n",
              "      <td>12</td>\n",
              "      <td>4.550296</td>\n",
              "      <td>-0.315372</td>\n",
              "    </tr>\n",
              "    <tr>\n",
              "      <th>2</th>\n",
              "      <td>As Roger had predicted, the snow departed as q...</td>\n",
              "      <td>0.476676</td>\n",
              "      <td>47</td>\n",
              "      <td>908</td>\n",
              "      <td>166</td>\n",
              "      <td>128</td>\n",
              "      <td>0.771084</td>\n",
              "      <td>14</td>\n",
              "      <td>4.475904</td>\n",
              "      <td>-0.580118</td>\n",
              "    </tr>\n",
              "    <tr>\n",
              "      <th>3</th>\n",
              "      <td>And outside before the palace a great garden w...</td>\n",
              "      <td>0.450007</td>\n",
              "      <td>33</td>\n",
              "      <td>909</td>\n",
              "      <td>164</td>\n",
              "      <td>118</td>\n",
              "      <td>0.719512</td>\n",
              "      <td>13</td>\n",
              "      <td>4.548780</td>\n",
              "      <td>-1.054013</td>\n",
              "    </tr>\n",
              "    <tr>\n",
              "      <th>4</th>\n",
              "      <td>Once upon a time there were Three Bears who li...</td>\n",
              "      <td>0.510845</td>\n",
              "      <td>32</td>\n",
              "      <td>723</td>\n",
              "      <td>147</td>\n",
              "      <td>51</td>\n",
              "      <td>0.346939</td>\n",
              "      <td>12</td>\n",
              "      <td>3.925170</td>\n",
              "      <td>0.247197</td>\n",
              "    </tr>\n",
              "    <tr>\n",
              "      <th>...</th>\n",
              "      <td>...</td>\n",
              "      <td>...</td>\n",
              "      <td>...</td>\n",
              "      <td>...</td>\n",
              "      <td>...</td>\n",
              "      <td>...</td>\n",
              "      <td>...</td>\n",
              "      <td>...</td>\n",
              "      <td>...</td>\n",
              "      <td>...</td>\n",
              "    </tr>\n",
              "    <tr>\n",
              "      <th>2829</th>\n",
              "      <td>06 dinosaurs 45 text pdf When you think of din...</td>\n",
              "      <td>0.646900</td>\n",
              "      <td>25</td>\n",
              "      <td>901</td>\n",
              "      <td>145</td>\n",
              "      <td>104</td>\n",
              "      <td>0.717241</td>\n",
              "      <td>15</td>\n",
              "      <td>5.220690</td>\n",
              "      <td>1.711390</td>\n",
              "    </tr>\n",
              "    <tr>\n",
              "      <th>2830</th>\n",
              "      <td>Wikijunior The Elements Solids So what is a so...</td>\n",
              "      <td>0.535648</td>\n",
              "      <td>19</td>\n",
              "      <td>890</td>\n",
              "      <td>164</td>\n",
              "      <td>105</td>\n",
              "      <td>0.640244</td>\n",
              "      <td>15</td>\n",
              "      <td>4.432927</td>\n",
              "      <td>0.189476</td>\n",
              "    </tr>\n",
              "    <tr>\n",
              "      <th>2831</th>\n",
              "      <td>Wikijunior The Elements Liquids The second sta...</td>\n",
              "      <td>0.483866</td>\n",
              "      <td>25</td>\n",
              "      <td>949</td>\n",
              "      <td>190</td>\n",
              "      <td>100</td>\n",
              "      <td>0.526316</td>\n",
              "      <td>14</td>\n",
              "      <td>4.000000</td>\n",
              "      <td>0.255209</td>\n",
              "    </tr>\n",
              "    <tr>\n",
              "      <th>2832</th>\n",
              "      <td>Geometry for Elementary School Solids Solids a...</td>\n",
              "      <td>0.514128</td>\n",
              "      <td>32</td>\n",
              "      <td>864</td>\n",
              "      <td>150</td>\n",
              "      <td>104</td>\n",
              "      <td>0.693333</td>\n",
              "      <td>28</td>\n",
              "      <td>4.766667</td>\n",
              "      <td>-0.215279</td>\n",
              "    </tr>\n",
              "    <tr>\n",
              "      <th>2833</th>\n",
              "      <td>Kingdoms Animals Animals are made of many cell...</td>\n",
              "      <td>0.512379</td>\n",
              "      <td>41</td>\n",
              "      <td>885</td>\n",
              "      <td>146</td>\n",
              "      <td>100</td>\n",
              "      <td>0.684932</td>\n",
              "      <td>14</td>\n",
              "      <td>5.068493</td>\n",
              "      <td>0.300779</td>\n",
              "    </tr>\n",
              "  </tbody>\n",
              "</table>\n",
              "<p>2834 rows × 10 columns</p>\n",
              "</div>"
            ],
            "text/plain": [
              "                                                excerpt  ...    target\n",
              "0     When the young people returned to the ballroom...  ... -0.340259\n",
              "1     All through dinner time, Mrs. Fayre was somewh...  ... -0.315372\n",
              "2     As Roger had predicted, the snow departed as q...  ... -0.580118\n",
              "3     And outside before the palace a great garden w...  ... -1.054013\n",
              "4     Once upon a time there were Three Bears who li...  ...  0.247197\n",
              "...                                                 ...  ...       ...\n",
              "2829  06 dinosaurs 45 text pdf When you think of din...  ...  1.711390\n",
              "2830  Wikijunior The Elements Solids So what is a so...  ...  0.189476\n",
              "2831  Wikijunior The Elements Liquids The second sta...  ...  0.255209\n",
              "2832  Geometry for Elementary School Solids Solids a...  ... -0.215279\n",
              "2833  Kingdoms Animals Animals are made of many cell...  ...  0.300779\n",
              "\n",
              "[2834 rows x 10 columns]"
            ]
          },
          "metadata": {
            "tags": []
          },
          "execution_count": 282
        }
      ]
    },
    {
      "cell_type": "markdown",
      "metadata": {
        "id": "iWzAZ4UN5DKx"
      },
      "source": [
        "# 3.Preproccesing"
      ]
    },
    {
      "cell_type": "code",
      "metadata": {
        "id": "mgxzi9xSzLdc"
      },
      "source": [
        "class Preproccesing():\n",
        "  def __init__ (self,data):\n",
        "    self.data=data\n",
        "  def low (self):\n",
        "    self.data= list(map(lambda x: x.lower(),self.data))\n",
        "    return self.data\n",
        "  def remove_LineBreak (self):\n",
        "    self.data= list(map(lambda x: re.sub('\\n',' ',x),self.data))\n",
        "    return self.data\n",
        "  def remove_punctuation (self):\n",
        "    pattern=re.compile('[^\\w\\s]')\n",
        "    self.data= list(map(lambda x: pattern.sub(' ',x),self.data))\n",
        "    return self.data\n",
        "  def remove_stop_words (self):\n",
        "    filtered_data=[]\n",
        "    stop_words = set(stopwords.words('english'))\n",
        "    for sent in (self.data):\n",
        "      word_tokens = word_tokenize(sent)\n",
        "      filtered_sentence = [w for w in word_tokens if not w in stop_words]\n",
        "      filtered_data.append(filtered_sentence)\n",
        "\n",
        "    for i,sent in enumerate (filtered_data):\n",
        "      filtered_data[i]=' '.join(sent)\n",
        "    self.data=filtered_data\n",
        "    return self.data\n",
        "    "
      ],
      "execution_count": null,
      "outputs": []
    },
    {
      "cell_type": "code",
      "metadata": {
        "id": "1Yoxev025m_h"
      },
      "source": [
        "preproccesing=Preproccesing(data['excerpt'])\n",
        "clean_data=preproccesing.low()\n",
        "clean_data=preproccesing.remove_LineBreak()\n",
        "clean_data=preproccesing.remove_punctuation()\n",
        "clean_data=preproccesing.remove_stop_words()"
      ],
      "execution_count": null,
      "outputs": []
    },
    {
      "cell_type": "code",
      "metadata": {
        "id": "PJ1xOtYfXJEq"
      },
      "source": [
        "clean_data=pd.DataFrame({'data':clean_data})"
      ],
      "execution_count": null,
      "outputs": []
    },
    {
      "cell_type": "code",
      "metadata": {
        "id": "Ch5oNYjuXVdK"
      },
      "source": [
        "data['excerpt']=clean_data"
      ],
      "execution_count": null,
      "outputs": []
    },
    {
      "cell_type": "code",
      "metadata": {
        "colab": {
          "base_uri": "https://localhost:8080/",
          "height": 419
        },
        "id": "fmbh1ZJMhkB_",
        "outputId": "6ac1d1b7-786d-4607-bd1a-3a8f1747dab0"
      },
      "source": [
        "data"
      ],
      "execution_count": null,
      "outputs": [
        {
          "output_type": "execute_result",
          "data": {
            "text/html": [
              "<div>\n",
              "<style scoped>\n",
              "    .dataframe tbody tr th:only-of-type {\n",
              "        vertical-align: middle;\n",
              "    }\n",
              "\n",
              "    .dataframe tbody tr th {\n",
              "        vertical-align: top;\n",
              "    }\n",
              "\n",
              "    .dataframe thead th {\n",
              "        text-align: right;\n",
              "    }\n",
              "</style>\n",
              "<table border=\"1\" class=\"dataframe\">\n",
              "  <thead>\n",
              "    <tr style=\"text-align: right;\">\n",
              "      <th></th>\n",
              "      <th>excerpt</th>\n",
              "      <th>standard_error</th>\n",
              "      <th>count_punct</th>\n",
              "      <th>count_char</th>\n",
              "      <th>count_words</th>\n",
              "      <th>count_uniq_words</th>\n",
              "      <th>word_diversity</th>\n",
              "      <th>max_word</th>\n",
              "      <th>average_word</th>\n",
              "      <th>target</th>\n",
              "    </tr>\n",
              "  </thead>\n",
              "  <tbody>\n",
              "    <tr>\n",
              "      <th>0</th>\n",
              "      <td>young people returned ballroom presented decid...</td>\n",
              "      <td>0.464009</td>\n",
              "      <td>27</td>\n",
              "      <td>992</td>\n",
              "      <td>179</td>\n",
              "      <td>114</td>\n",
              "      <td>0.636872</td>\n",
              "      <td>11</td>\n",
              "      <td>4.547486</td>\n",
              "      <td>-0.340259</td>\n",
              "    </tr>\n",
              "    <tr>\n",
              "      <th>1</th>\n",
              "      <td>dinner time mrs fayre somewhat silent eyes res...</td>\n",
              "      <td>0.480805</td>\n",
              "      <td>56</td>\n",
              "      <td>937</td>\n",
              "      <td>169</td>\n",
              "      <td>127</td>\n",
              "      <td>0.751479</td>\n",
              "      <td>12</td>\n",
              "      <td>4.550296</td>\n",
              "      <td>-0.315372</td>\n",
              "    </tr>\n",
              "    <tr>\n",
              "      <th>2</th>\n",
              "      <td>roger predicted snow departed quickly came two...</td>\n",
              "      <td>0.476676</td>\n",
              "      <td>47</td>\n",
              "      <td>908</td>\n",
              "      <td>166</td>\n",
              "      <td>128</td>\n",
              "      <td>0.771084</td>\n",
              "      <td>14</td>\n",
              "      <td>4.475904</td>\n",
              "      <td>-0.580118</td>\n",
              "    </tr>\n",
              "    <tr>\n",
              "      <th>3</th>\n",
              "      <td>outside palace great garden walled round fille...</td>\n",
              "      <td>0.450007</td>\n",
              "      <td>33</td>\n",
              "      <td>909</td>\n",
              "      <td>164</td>\n",
              "      <td>118</td>\n",
              "      <td>0.719512</td>\n",
              "      <td>13</td>\n",
              "      <td>4.548780</td>\n",
              "      <td>-1.054013</td>\n",
              "    </tr>\n",
              "    <tr>\n",
              "      <th>4</th>\n",
              "      <td>upon time three bears lived together house woo...</td>\n",
              "      <td>0.510845</td>\n",
              "      <td>32</td>\n",
              "      <td>723</td>\n",
              "      <td>147</td>\n",
              "      <td>51</td>\n",
              "      <td>0.346939</td>\n",
              "      <td>12</td>\n",
              "      <td>3.925170</td>\n",
              "      <td>0.247197</td>\n",
              "    </tr>\n",
              "    <tr>\n",
              "      <th>...</th>\n",
              "      <td>...</td>\n",
              "      <td>...</td>\n",
              "      <td>...</td>\n",
              "      <td>...</td>\n",
              "      <td>...</td>\n",
              "      <td>...</td>\n",
              "      <td>...</td>\n",
              "      <td>...</td>\n",
              "      <td>...</td>\n",
              "      <td>...</td>\n",
              "    </tr>\n",
              "    <tr>\n",
              "      <th>2829</th>\n",
              "      <td>06 dinosaurs 45 text pdf think dinosaurs lived...</td>\n",
              "      <td>0.646900</td>\n",
              "      <td>25</td>\n",
              "      <td>901</td>\n",
              "      <td>145</td>\n",
              "      <td>104</td>\n",
              "      <td>0.717241</td>\n",
              "      <td>15</td>\n",
              "      <td>5.220690</td>\n",
              "      <td>1.711390</td>\n",
              "    </tr>\n",
              "    <tr>\n",
              "      <th>2830</th>\n",
              "      <td>wikijunior elements solids solid solids usuall...</td>\n",
              "      <td>0.535648</td>\n",
              "      <td>19</td>\n",
              "      <td>890</td>\n",
              "      <td>164</td>\n",
              "      <td>105</td>\n",
              "      <td>0.640244</td>\n",
              "      <td>15</td>\n",
              "      <td>4.432927</td>\n",
              "      <td>0.189476</td>\n",
              "    </tr>\n",
              "    <tr>\n",
              "      <th>2831</th>\n",
              "      <td>wikijunior elements liquids second state matte...</td>\n",
              "      <td>0.483866</td>\n",
              "      <td>25</td>\n",
              "      <td>949</td>\n",
              "      <td>190</td>\n",
              "      <td>100</td>\n",
              "      <td>0.526316</td>\n",
              "      <td>14</td>\n",
              "      <td>4.000000</td>\n",
              "      <td>0.255209</td>\n",
              "    </tr>\n",
              "    <tr>\n",
              "      <th>2832</th>\n",
              "      <td>geometry elementary school solids solids shape...</td>\n",
              "      <td>0.514128</td>\n",
              "      <td>32</td>\n",
              "      <td>864</td>\n",
              "      <td>150</td>\n",
              "      <td>104</td>\n",
              "      <td>0.693333</td>\n",
              "      <td>28</td>\n",
              "      <td>4.766667</td>\n",
              "      <td>-0.215279</td>\n",
              "    </tr>\n",
              "    <tr>\n",
              "      <th>2833</th>\n",
              "      <td>kingdoms animals animals made many cells eat t...</td>\n",
              "      <td>0.512379</td>\n",
              "      <td>41</td>\n",
              "      <td>885</td>\n",
              "      <td>146</td>\n",
              "      <td>100</td>\n",
              "      <td>0.684932</td>\n",
              "      <td>14</td>\n",
              "      <td>5.068493</td>\n",
              "      <td>0.300779</td>\n",
              "    </tr>\n",
              "  </tbody>\n",
              "</table>\n",
              "<p>2834 rows × 10 columns</p>\n",
              "</div>"
            ],
            "text/plain": [
              "                                                excerpt  ...    target\n",
              "0     young people returned ballroom presented decid...  ... -0.340259\n",
              "1     dinner time mrs fayre somewhat silent eyes res...  ... -0.315372\n",
              "2     roger predicted snow departed quickly came two...  ... -0.580118\n",
              "3     outside palace great garden walled round fille...  ... -1.054013\n",
              "4     upon time three bears lived together house woo...  ...  0.247197\n",
              "...                                                 ...  ...       ...\n",
              "2829  06 dinosaurs 45 text pdf think dinosaurs lived...  ...  1.711390\n",
              "2830  wikijunior elements solids solid solids usuall...  ...  0.189476\n",
              "2831  wikijunior elements liquids second state matte...  ...  0.255209\n",
              "2832  geometry elementary school solids solids shape...  ... -0.215279\n",
              "2833  kingdoms animals animals made many cells eat t...  ...  0.300779\n",
              "\n",
              "[2834 rows x 10 columns]"
            ]
          },
          "metadata": {
            "tags": []
          },
          "execution_count": 287
        }
      ]
    },
    {
      "cell_type": "markdown",
      "metadata": {
        "id": "SBncsEoQLwlD"
      },
      "source": [
        "# 4.Tokenization"
      ]
    },
    {
      "cell_type": "code",
      "metadata": {
        "id": "isNuaAm3IQfQ"
      },
      "source": [
        "text=data['excerpt']"
      ],
      "execution_count": null,
      "outputs": []
    },
    {
      "cell_type": "code",
      "metadata": {
        "id": "5QmJD8BrMj-I"
      },
      "source": [
        "word2idx={'<pad>':0,\n",
        "          '<unk>':1}"
      ],
      "execution_count": null,
      "outputs": []
    },
    {
      "cell_type": "code",
      "metadata": {
        "id": "FDcr8vLdOEkY"
      },
      "source": [
        "i=2\n",
        "for seq in text:\n",
        "  for w in word_tokenize(seq):\n",
        "    if w not in word2idx:\n",
        "      word2idx[w]=i\n",
        "      i+=1"
      ],
      "execution_count": null,
      "outputs": []
    },
    {
      "cell_type": "code",
      "metadata": {
        "id": "LOm5cOjSPjPu"
      },
      "source": [
        "tokens=[word_tokenize(seq) for seq in text]"
      ],
      "execution_count": null,
      "outputs": []
    },
    {
      "cell_type": "code",
      "metadata": {
        "id": "lv3BLCTXgo08"
      },
      "source": [
        "max_len=max(list(map(lambda x: len(x),tokens)))\n",
        "vecs=[]\n",
        "for token in tokens:\n",
        "  token.extend(['<pad>']*(max_len-len(token)))\n",
        "  vecs.append([word2idx[w] for w in token])"
      ],
      "execution_count": null,
      "outputs": []
    },
    {
      "cell_type": "markdown",
      "metadata": {
        "id": "Wf4ylOR1R-us"
      },
      "source": [
        "FastText Embeddings"
      ]
    },
    {
      "cell_type": "code",
      "metadata": {
        "colab": {
          "base_uri": "https://localhost:8080/"
        },
        "id": "uURBkPT8SAmu",
        "outputId": "32f46ac5-d2db-4e0a-875a-2b8ccd8b6d96"
      },
      "source": [
        "!pip install fasttext\n",
        "!wget https://dl.fbaipublicfiles.com/fasttext/vectors-wiki/wiki.en.zip\n",
        "!unzip wiki.en.zip\n",
        "!rm -rf wiki.en.zip\n",
        "!rm -rf wiki.en.vec"
      ],
      "execution_count": null,
      "outputs": [
        {
          "output_type": "stream",
          "text": [
            "Collecting fasttext\n",
            "\u001b[?25l  Downloading https://files.pythonhosted.org/packages/f8/85/e2b368ab6d3528827b147fdb814f8189acc981a4bc2f99ab894650e05c40/fasttext-0.9.2.tar.gz (68kB)\n",
            "\r\u001b[K     |████▊                           | 10kB 12.5MB/s eta 0:00:01\r\u001b[K     |█████████▌                      | 20kB 16.5MB/s eta 0:00:01\r\u001b[K     |██████████████▎                 | 30kB 18.6MB/s eta 0:00:01\r\u001b[K     |███████████████████             | 40kB 12.8MB/s eta 0:00:01\r\u001b[K     |███████████████████████▉        | 51kB 9.2MB/s eta 0:00:01\r\u001b[K     |████████████████████████████▋   | 61kB 7.8MB/s eta 0:00:01\r\u001b[K     |████████████████████████████████| 71kB 5.4MB/s \n",
            "\u001b[?25hRequirement already satisfied: pybind11>=2.2 in /usr/local/lib/python3.7/dist-packages (from fasttext) (2.6.2)\n",
            "Requirement already satisfied: setuptools>=0.7.0 in /usr/local/lib/python3.7/dist-packages (from fasttext) (57.0.0)\n",
            "Requirement already satisfied: numpy in /usr/local/lib/python3.7/dist-packages (from fasttext) (1.19.5)\n",
            "Building wheels for collected packages: fasttext\n",
            "  Building wheel for fasttext (setup.py) ... \u001b[?25l\u001b[?25hdone\n",
            "  Created wheel for fasttext: filename=fasttext-0.9.2-cp37-cp37m-linux_x86_64.whl size=3097858 sha256=1a56d6f6d27b160b84e93dbea10c8643f3154a6e9990c6d26dc20f881b7e69c8\n",
            "  Stored in directory: /root/.cache/pip/wheels/98/ba/7f/b154944a1cf5a8cee91c154b75231136cc3a3321ab0e30f592\n",
            "Successfully built fasttext\n",
            "Installing collected packages: fasttext\n",
            "Successfully installed fasttext-0.9.2\n",
            "--2021-06-28 06:12:49--  https://dl.fbaipublicfiles.com/fasttext/vectors-wiki/wiki.en.zip\n",
            "Resolving dl.fbaipublicfiles.com (dl.fbaipublicfiles.com)... 104.22.74.142, 104.22.75.142, 172.67.9.4, ...\n",
            "Connecting to dl.fbaipublicfiles.com (dl.fbaipublicfiles.com)|104.22.74.142|:443... connected.\n",
            "HTTP request sent, awaiting response... 200 OK\n",
            "Length: 10356881291 (9.6G) [application/zip]\n",
            "Saving to: ‘wiki.en.zip’\n",
            "\n",
            "wiki.en.zip         100%[===================>]   9.65G  34.9MB/s    in 4m 26s  \n",
            "\n",
            "2021-06-28 06:17:15 (37.2 MB/s) - ‘wiki.en.zip’ saved [10356881291/10356881291]\n",
            "\n",
            "Archive:  wiki.en.zip\n",
            "  inflating: wiki.en.vec             \n",
            "  inflating: wiki.en.bin             \n"
          ],
          "name": "stdout"
        }
      ]
    },
    {
      "cell_type": "code",
      "metadata": {
        "id": "PiKxFy5MyMC2",
        "colab": {
          "base_uri": "https://localhost:8080/"
        },
        "outputId": "3ebf70ea-b1eb-4981-8741-dd1263ccd052"
      },
      "source": [
        "import fasttext\n",
        "model_ft = fasttext.load_model('wiki.en.bin')"
      ],
      "execution_count": null,
      "outputs": [
        {
          "output_type": "stream",
          "text": [
            "Warning : `load_model` does not return WordVectorModel or SupervisedModel any more, but a `FastText` object which is very similar.\n"
          ],
          "name": "stderr"
        }
      ]
    },
    {
      "cell_type": "code",
      "metadata": {
        "id": "1KAl0-jHyU2n"
      },
      "source": [
        "emb = [model_ft.get_word_vector(i) for i in word2idx.keys()]\n",
        "emb = torch.tensor(emb)"
      ],
      "execution_count": null,
      "outputs": []
    },
    {
      "cell_type": "code",
      "metadata": {
        "id": "yevyyWIM3sKy"
      },
      "source": [
        "del model_ft"
      ],
      "execution_count": null,
      "outputs": []
    },
    {
      "cell_type": "markdown",
      "metadata": {
        "id": "4e6aAhAQnLNx"
      },
      "source": [
        "Train and test data"
      ]
    },
    {
      "cell_type": "code",
      "metadata": {
        "id": "luuCK-cjnNuk"
      },
      "source": [
        "\n",
        "##  обучающая выборка / тестовая выборка\n",
        "train_inputs, val_inputs, train_labels, val_labels = train_test_split(\n",
        "    vecs, np.array(data['target']), test_size=0.2, random_state=42)\n",
        "\n",
        "## перевод в тензоры     \n",
        "train_inputs = torch.tensor(train_inputs)\n",
        "val_inputs = torch.tensor(val_inputs)\n",
        "train_labels = torch.tensor(train_labels)\n",
        "val_labels = torch.tensor(val_labels)\n",
        "\n",
        "## создание объектов dataloader\n",
        "train_data = TensorDataset(train_inputs, train_labels)\n",
        "train_sampler = RandomSampler(train_data) \n",
        "train_dataloader = DataLoader(train_data, sampler=train_sampler)\n",
        "\n",
        "val_data = TensorDataset(val_inputs, val_labels)\n",
        "val_sampler = SequentialSampler(val_data) \n",
        "val_dataloader = DataLoader(val_data, sampler=val_sampler)"
      ],
      "execution_count": null,
      "outputs": []
    },
    {
      "cell_type": "markdown",
      "metadata": {
        "id": "0v6_U3wkwY8Q"
      },
      "source": [
        "# 5.Model"
      ]
    },
    {
      "cell_type": "markdown",
      "metadata": {
        "id": "8qxortsOkRbd"
      },
      "source": [
        "## FastText+ 4 слойная СНС"
      ]
    },
    {
      "cell_type": "code",
      "metadata": {
        "id": "Xr_mCf3VnfNn"
      },
      "source": [
        "class CNN (nn.Module):\n",
        "  def __init__(self,\n",
        "                 pretrained_embedding=None,\n",
        "                 freeze_embedding=False,\n",
        "                 vocab_size=None,\n",
        "                 embed_dim=300,\n",
        "                 dropout=0.5):\n",
        "    super(CNN, self).__init__()\n",
        "    if pretrained_embedding is not None:\n",
        "      self.vocab_size, self.embed_dim=pretrained_embedding.shape\n",
        "      self.embedding=nn.Embedding.from_pretrained(pretrained_embedding,\n",
        "                                                          freeze=freeze_embedding)\n",
        "    else:  \n",
        "      self.embed_dim=embed_dim\n",
        "      self.embedding=nn.Embedding(num_embeddings=self.vocab_size,\n",
        "                                embedding_dim=self.embed_dim\n",
        "                                )\n",
        "    self.conv1d_1=nn.Conv1d(in_channels=300,\n",
        "                          out_channels=128,\n",
        "                          kernel_size=3)\n",
        "    self.conv1d_2=nn.Conv1d(in_channels=128,\n",
        "                          out_channels=64,\n",
        "                          kernel_size=3)\n",
        "    self.conv1d_3=nn.Conv1d(in_channels=64,\n",
        "                          out_channels=32,\n",
        "                          kernel_size=3)\n",
        "    self.conv1d_4=nn.Conv1d(in_channels=32,\n",
        "                          out_channels=16,\n",
        "                          kernel_size=3)\n",
        "    self.linear=nn.Linear(16,1)\n",
        "    self.dropout=nn.Dropout(p=dropout)\n",
        "    self.double()\n",
        "  def forward(self,input):\n",
        "    out=self.embedding(input)\n",
        "\n",
        "    out=out.permute(0,2,1)\n",
        "    out=self.conv1d_1(out)\n",
        "    out=F.relu(out)\n",
        "    out=F.max_pool1d(out,3)\n",
        "\n",
        "    out=self.conv1d_2(out)\n",
        "    out=F.relu(out)\n",
        "    out=F.max_pool1d(out,3)\n",
        "\n",
        "    out=self.conv1d_3(out)\n",
        "    out=F.relu(out)\n",
        "    out=F.max_pool1d(out,3)\n",
        "\n",
        "    out=self.conv1d_4(out)\n",
        "    out=F.relu(out)\n",
        "    out=F.max_pool1d(out,2)\n",
        "\n",
        "    out = out.permute(0, 2, 1)\n",
        "    out=self.dropout(out)\n",
        "    y=self.linear(out)\n",
        "    return y"
      ],
      "execution_count": null,
      "outputs": []
    },
    {
      "cell_type": "code",
      "metadata": {
        "id": "4ahWrwLwqIkT"
      },
      "source": [
        "if torch.cuda.is_available():       \n",
        "    device = torch.device(\"cuda\")\n",
        "else:\n",
        "    device = torch.device(\"cpu\")"
      ],
      "execution_count": null,
      "outputs": []
    },
    {
      "cell_type": "code",
      "metadata": {
        "id": "Y3_NAuwsWawq"
      },
      "source": [
        "loss = nn.MSELoss()\n",
        "input = torch.randn(3, 5, requires_grad=True)\n",
        "target = torch.randn(3, 5)\n",
        "output = loss(input, target)\n",
        "output.backward()"
      ],
      "execution_count": null,
      "outputs": []
    },
    {
      "cell_type": "code",
      "metadata": {
        "id": "sGlQ6XxrpQQ3"
      },
      "source": [
        "num_epochs = 30 \n",
        "#batch_size = 100 \n",
        "learning_rate = 0.001"
      ],
      "execution_count": null,
      "outputs": []
    },
    {
      "cell_type": "code",
      "metadata": {
        "id": "ouZT0sfbrA3P"
      },
      "source": [
        "model = CNN( pretrained_embedding=emb,\n",
        "            freeze_embedding=False,\n",
        "            vocab_size=len(word2idx),\n",
        "            embed_dim=300,\n",
        "            dropout=0.5)\n",
        "model.to(device)\n",
        "\n",
        "\n",
        "criterion = nn.MSELoss()\n",
        "optimizer = torch.optim.Adam(model.parameters(), lr=learning_rate)"
      ],
      "execution_count": null,
      "outputs": []
    },
    {
      "cell_type": "code",
      "metadata": {
        "colab": {
          "base_uri": "https://localhost:8080/",
          "height": 965
        },
        "id": "C9H2ZuUqpZQl",
        "outputId": "0ed22c81-edaa-4a45-f789-53866ba916ce"
      },
      "source": [
        "for epoch in range (num_epochs):\n",
        "  train_mse=0\n",
        "  val_mse=0\n",
        "  print (f'EPOCH {epoch} \\n')\n",
        "  for i,(texts,labels) in enumerate (train_dataloader):\n",
        "    y=model(texts.cuda())\n",
        "    optimizer.zero_grad()\n",
        "    loss = criterion(y[0][0], labels.cuda()) \n",
        "    loss.backward()\n",
        "    optimizer.step()\n",
        "    train_mse+=loss.item()\n",
        "  for i,(texts,labels) in enumerate (val_dataloader):\n",
        "    pred=model(texts.cuda())\n",
        "    loss=criterion(pred,labels.cuda())\n",
        "    val_mse+=loss.item()\n",
        "  print ('TRAIN RMSE=',math.sqrt(train_mse/len(train_labels)))\n",
        "  print ('VAL RMSE=',math.sqrt(val_mse/len(val_labels)))"
      ],
      "execution_count": null,
      "outputs": [
        {
          "output_type": "stream",
          "text": [
            "EPOCH 0 \n",
            "\n"
          ],
          "name": "stdout"
        },
        {
          "output_type": "stream",
          "text": [
            "/usr/local/lib/python3.7/dist-packages/torch/nn/functional.py:652: UserWarning: Named tensors and all their associated APIs are an experimental feature and subject to change. Please do not use them for anything important until they are released as stable. (Triggered internally at  /pytorch/c10/core/TensorImpl.h:1156.)\n",
            "  return torch.max_pool1d(input, kernel_size, stride, padding, dilation, ceil_mode)\n",
            "/usr/local/lib/python3.7/dist-packages/torch/nn/modules/loss.py:528: UserWarning: Using a target size (torch.Size([1])) that is different to the input size (torch.Size([1, 1, 1])). This will likely lead to incorrect results due to broadcasting. Please ensure they have the same size.\n",
            "  return F.mse_loss(input, target, reduction=self.reduction)\n"
          ],
          "name": "stderr"
        },
        {
          "output_type": "stream",
          "text": [
            "TRAIN RMSE= 0.9564008943101975\n",
            "VAL RMSE= 0.8784285613487581\n",
            "EPOCH 1 \n",
            "\n",
            "TRAIN RMSE= 0.770436346591006\n",
            "VAL RMSE= 0.8021275746329157\n",
            "EPOCH 2 \n",
            "\n",
            "TRAIN RMSE= 0.6260366238508924\n",
            "VAL RMSE= 0.852964602609321\n",
            "EPOCH 3 \n",
            "\n",
            "TRAIN RMSE= 0.5720566387508197\n",
            "VAL RMSE= 0.7919520057822113\n",
            "EPOCH 4 \n",
            "\n",
            "TRAIN RMSE= 0.5494640180777738\n",
            "VAL RMSE= 0.7933386824294838\n",
            "EPOCH 5 \n",
            "\n",
            "TRAIN RMSE= 0.5217328092934567\n",
            "VAL RMSE= 0.8106503528777443\n",
            "EPOCH 6 \n",
            "\n",
            "TRAIN RMSE= 0.5321077146134428\n",
            "VAL RMSE= 0.8056615709621401\n",
            "EPOCH 7 \n",
            "\n",
            "TRAIN RMSE= 0.5073855477663328\n",
            "VAL RMSE= 0.7956210407487091\n",
            "EPOCH 8 \n",
            "\n",
            "TRAIN RMSE= 0.496873571414279\n",
            "VAL RMSE= 0.7929300821296712\n",
            "EPOCH 9 \n",
            "\n"
          ],
          "name": "stdout"
        },
        {
          "output_type": "error",
          "ename": "KeyboardInterrupt",
          "evalue": "ignored",
          "traceback": [
            "\u001b[0;31m---------------------------------------------------------------------------\u001b[0m",
            "\u001b[0;31mKeyboardInterrupt\u001b[0m                         Traceback (most recent call last)",
            "\u001b[0;32m<ipython-input-302-30bd4bed901c>\u001b[0m in \u001b[0;36m<module>\u001b[0;34m()\u001b[0m\n\u001b[1;32m      9\u001b[0m     \u001b[0mloss\u001b[0m\u001b[0;34m.\u001b[0m\u001b[0mbackward\u001b[0m\u001b[0;34m(\u001b[0m\u001b[0;34m)\u001b[0m\u001b[0;34m\u001b[0m\u001b[0;34m\u001b[0m\u001b[0m\n\u001b[1;32m     10\u001b[0m     \u001b[0moptimizer\u001b[0m\u001b[0;34m.\u001b[0m\u001b[0mstep\u001b[0m\u001b[0;34m(\u001b[0m\u001b[0;34m)\u001b[0m\u001b[0;34m\u001b[0m\u001b[0;34m\u001b[0m\u001b[0m\n\u001b[0;32m---> 11\u001b[0;31m     \u001b[0mtrain_mse\u001b[0m\u001b[0;34m+=\u001b[0m\u001b[0mloss\u001b[0m\u001b[0;34m.\u001b[0m\u001b[0mitem\u001b[0m\u001b[0;34m(\u001b[0m\u001b[0;34m)\u001b[0m\u001b[0;34m\u001b[0m\u001b[0;34m\u001b[0m\u001b[0m\n\u001b[0m\u001b[1;32m     12\u001b[0m   \u001b[0;32mfor\u001b[0m \u001b[0mi\u001b[0m\u001b[0;34m,\u001b[0m\u001b[0;34m(\u001b[0m\u001b[0mtexts\u001b[0m\u001b[0;34m,\u001b[0m\u001b[0mlabels\u001b[0m\u001b[0;34m)\u001b[0m \u001b[0;32min\u001b[0m \u001b[0menumerate\u001b[0m \u001b[0;34m(\u001b[0m\u001b[0mval_dataloader\u001b[0m\u001b[0;34m)\u001b[0m\u001b[0;34m:\u001b[0m\u001b[0;34m\u001b[0m\u001b[0;34m\u001b[0m\u001b[0m\n\u001b[1;32m     13\u001b[0m     \u001b[0mpred\u001b[0m\u001b[0;34m=\u001b[0m\u001b[0mmodel\u001b[0m\u001b[0;34m(\u001b[0m\u001b[0mtexts\u001b[0m\u001b[0;34m.\u001b[0m\u001b[0mcuda\u001b[0m\u001b[0;34m(\u001b[0m\u001b[0;34m)\u001b[0m\u001b[0;34m)\u001b[0m\u001b[0;34m\u001b[0m\u001b[0;34m\u001b[0m\u001b[0m\n",
            "\u001b[0;31mKeyboardInterrupt\u001b[0m: "
          ]
        }
      ]
    },
    {
      "cell_type": "markdown",
      "metadata": {
        "id": "OVtL-mFakLuo"
      },
      "source": [
        "## TF-IDF + SVR"
      ]
    },
    {
      "cell_type": "code",
      "metadata": {
        "id": "x0jCD7z-1o0s"
      },
      "source": [
        "vectorizer=TfidfVectorizer(ngram_range=(3,5))\n",
        "data_excerpt_tfidf=vectorizer.fit_transform(data['excerpt'])"
      ],
      "execution_count": null,
      "outputs": []
    },
    {
      "cell_type": "code",
      "metadata": {
        "id": "sE-8wc-qk_Ag"
      },
      "source": [
        "sparce_features=csc_matrix(data.drop(['excerpt','target'],axis=1))"
      ],
      "execution_count": null,
      "outputs": []
    },
    {
      "cell_type": "code",
      "metadata": {
        "id": "nK5ZOlEElBti"
      },
      "source": [
        "X=hstack((data_excerpt_tfidf,sparce_features))"
      ],
      "execution_count": null,
      "outputs": []
    },
    {
      "cell_type": "code",
      "metadata": {
        "id": "XRhPEkSTn6vl"
      },
      "source": [
        "X_train,X_test,y_train,y_test=train_test_split(X,data['target'],test_size=0.2,random_state=42)"
      ],
      "execution_count": null,
      "outputs": []
    },
    {
      "cell_type": "code",
      "metadata": {
        "colab": {
          "base_uri": "https://localhost:8080/"
        },
        "id": "tdAhDiwaoPe4",
        "outputId": "2cd0735b-faf9-42db-82ea-c01fa6344ebd"
      },
      "source": [
        "y_train"
      ],
      "execution_count": null,
      "outputs": [
        {
          "output_type": "execute_result",
          "data": {
            "text/plain": [
              "2743   -1.518350\n",
              "2347   -0.548807\n",
              "2387   -0.193262\n",
              "2202   -1.033799\n",
              "786    -1.725606\n",
              "          ...   \n",
              "1638   -3.309178\n",
              "1095   -0.216738\n",
              "1130   -1.584384\n",
              "1294   -2.034688\n",
              "860    -0.605216\n",
              "Name: target, Length: 2267, dtype: float64"
            ]
          },
          "metadata": {
            "tags": []
          },
          "execution_count": 324
        }
      ]
    },
    {
      "cell_type": "code",
      "metadata": {
        "colab": {
          "base_uri": "https://localhost:8080/"
        },
        "id": "Lu3Q-XEVoGLB",
        "outputId": "8ef5bb67-b9d7-454a-cc31-99c14b610694"
      },
      "source": [
        "clf=SVR(kernel='linear')\n",
        "clf.fit(X_train,y_train)"
      ],
      "execution_count": null,
      "outputs": [
        {
          "output_type": "execute_result",
          "data": {
            "text/plain": [
              "SVR(C=1.0, cache_size=200, coef0=0.0, degree=3, epsilon=0.1, gamma='scale',\n",
              "    kernel='linear', max_iter=-1, shrinking=True, tol=0.001, verbose=False)"
            ]
          },
          "metadata": {
            "tags": []
          },
          "execution_count": 328
        }
      ]
    },
    {
      "cell_type": "code",
      "metadata": {
        "colab": {
          "base_uri": "https://localhost:8080/"
        },
        "id": "Fp-LNXKzoMCR",
        "outputId": "e869c883-2c79-494e-bbd2-2f3f46dbfc8d"
      },
      "source": [
        "pred=clf.predict(X_test)\n",
        "print (mean_squared_error(pred,y_test,squared=False))"
      ],
      "execution_count": null,
      "outputs": [
        {
          "output_type": "stream",
          "text": [
            "0.954340634417668\n"
          ],
          "name": "stdout"
        }
      ]
    },
    {
      "cell_type": "code",
      "metadata": {
        "id": "EGUxT3DdqAEu"
      },
      "source": [
        ""
      ],
      "execution_count": null,
      "outputs": []
    }
  ]
}